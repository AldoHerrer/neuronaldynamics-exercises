{
 "cells": [
  {
   "cell_type": "code",
   "execution_count": 21,
   "metadata": {},
   "outputs": [
    {
     "name": "stdout",
     "output_type": "stream",
     "text": [
      "[[ 1.    -0.5   -0.125  0.   ]\n",
      " [-0.5    1.    -0.125  0.   ]\n",
      " [-0.125 -0.125  1.    -0.125]\n",
      " [ 0.     0.    -0.125  1.   ]]\n"
     ]
    },
    {
     "data": {
      "image/png": "[encoded data removed]"
     },
     "output_type": "display_data",
     "metadata": {}
    }
   ],
   "source": [
    "%matplotlib inline  \n",
    "\n",
    "import hopfield2\n",
    "import hf_pattern_tools as pf\n",
    "import hf_plotter as hfplt\n",
    "\n",
    "\n",
    "patternSize = 4\n",
    "nrOfPatterns = 4\n",
    "referencePattern = 2\n",
    "initiallyFlippedPixels = 2\n",
    "\n",
    "hopfieldNet = hopfield2.HopfieldNetwork2(patternSize)\n",
    "factory = pf.PatternFactory(patternSize)\n",
    "patternList = factory.createRandomPatternList(nrOfPatterns, onProbability=0.5)\n",
    "hopfieldNet.store_patterns(patternList)\n",
    "overlapMatrix = pf.computeOverlapMatrix(patternList)\n",
    "print(overlapMatrix)\n",
    "hopfieldNet.set_state_from_2D_pattern(pf.getCopyFlipN(patternList[referencePattern],initiallyFlippedPixels))\n",
    "\n",
    "states = hopfieldNet.run_with_monitoring(4)\n",
    "hfplt.plot_pattern_sequence_and_overlap(states, patternList, referencePattern)"
   ]
  },
  {
   "cell_type": "code",
   "execution_count": null,
   "metadata": {},
   "outputs": [],
   "source": [
    ""
   ]
  }
 ],
 "metadata": {
  "kernelspec": {
   "display_name": "Python 2",
   "language": "python",
   "name": "python2"
  },
  "language_info": {
   "codemirror_mode": {
    "name": "ipython",
    "version": 2.0
   },
   "file_extension": ".py",
   "mimetype": "text/x-python",
   "name": "python",
   "nbconvert_exporter": "python",
   "pygments_lexer": "ipython2",
   "version": "2.7.11"
  }
 },
 "nbformat": 4,
 "nbformat_minor": 0
}